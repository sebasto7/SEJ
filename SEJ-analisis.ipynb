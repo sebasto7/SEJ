{
 "cells": [
  {
   "cell_type": "markdown",
   "id": "41a944fb-b94c-46aa-b2c8-927cc7348ba7",
   "metadata": {
    "tags": []
   },
   "source": [
    "# Salut Emocional Jove (SEJ) "
   ]
  },
  {
   "cell_type": "markdown",
   "id": "d15104d5-a679-41a1-b385-a57d238098ef",
   "metadata": {},
   "source": [
    "Introducción al projecto"
   ]
  },
  {
   "cell_type": "code",
   "execution_count": 40,
   "id": "c35bf546-2a18-4ee3-ae60-39d41348b1dc",
   "metadata": {},
   "outputs": [],
   "source": [
    "# Importando paquetes\n",
    "import pandas as pd\n",
    "import os"
   ]
  },
  {
   "cell_type": "code",
   "execution_count": 41,
   "id": "39e1f719-1c3a-4a78-b842-e825ab7547c8",
   "metadata": {},
   "outputs": [],
   "source": [
    "# Definiendo directorios\n",
    "mainFolder = r'D:\\Sebastian\\Education\\SEJ'\n",
    "rawData = 'Datos depurado_revisión_010221_seb_raw_data'\n",
    "filePath = os.path.join(mainFolder,rawData) "
   ]
  },
  {
   "cell_type": "code",
   "execution_count": 74,
   "id": "e0930d36-3109-4896-8e3f-de3281d4f17d",
   "metadata": {},
   "outputs": [],
   "source": [
    "# Cargando datos crudos\n",
    "df = pd.read_excel(f'{filePath}.xlsx', header=[0, 1, 2]) # hay un encabezado multiple de tres niveles en el archivo\n",
    "\n",
    "# Filtrando datos segun consentimiento\n",
    "SEJ_df = df[df[('general', 'consentiment', \n",
    "                     'A continuació, i amb aquesta informació, marca si acceptes participar d’aquest estudi contestant a aquest qüestionari:')] == 'Accepto']\n",
    "\n"
   ]
  },
  {
   "cell_type": "code",
   "execution_count": 80,
   "id": "81a22239-c0a7-4455-ac72-769a99080a56",
   "metadata": {},
   "outputs": [
    {
     "name": "stderr",
     "output_type": "stream",
     "text": [
      "C:\\Users\\smolina\\Anaconda3\\envs\\EM\\lib\\site-packages\\IPython\\core\\interactiveshell.py:2915: PerformanceWarning: indexing past lexsort depth may impact performance.\n",
      "  raw_cell, store_history, silent, shell_futures)\n"
     ]
    }
   ],
   "source": [
    "# Separando table en tablas individuales por sección útil\n",
    "SEJ_demografics = SEJ_df[('general', 'dades demogràfiques')].copy()\n",
    "SEJ_conciencia_sentir = SEJ_df[('conciència del sentir')].copy()\n"
   ]
  },
  {
   "cell_type": "code",
   "execution_count": 81,
   "id": "a267eb22-e5a5-45ea-931c-6fd49fe83c6a",
   "metadata": {},
   "outputs": [],
   "source": [
    "# Mostrar todos los niveles del MultiIndex de las columnas\n",
    "#pd.set_option('display.max_rows', 200) # Establece el número máximo de filas a mostrar (por ejemplo, 100 filas)\n",
    "#display(SEJ_df.columns.to_frame().head(200))"
   ]
  },
  {
   "cell_type": "markdown",
   "id": "67bf9bd8-cae9-41d4-a6c9-4e6582e3dbb4",
   "metadata": {},
   "source": [
    "## Análisis demográfico"
   ]
  },
  {
   "cell_type": "markdown",
   "id": "db0a53b7-ae8a-4bd1-bb1a-77f9c8f84f10",
   "metadata": {},
   "source": [
    "Basado en los datos del dataframe **SEJ_demografics**, que incluye información sobre la edad, ocupación, distribución territorial, sexo biológico, género y el número de personas con las que viven, se pueden realizar diversos análisis y gráficos interesantes. \n",
    "\n",
    "### 1. **Distribución de la edad**\n",
    "   - **Análisis**: Examinar la distribución de edades entre los participantes.\n",
    "   - **Gráfico**: Un histograma o un gráfico de densidad (kde plot) puede ayudar a visualizar cómo se distribuye la edad en el conjunto de datos.\n",
    "   - **Pregunta**: ¿Hay más jóvenes en un rango de edad específico?\n",
    "\n",
    "### 2. **Relación entre Ocupación y Edad**\n",
    "   - **Análisis**: Investigar cómo varían las ocupaciones en función de la edad.\n",
    "   - **Gráfico**: Un gráfico de barras apiladas o de cajas (boxplot) mostrando la edad en función de la ocupación.\n",
    "   - **Pregunta**: ¿A qué edad suelen estar las personas en diferentes etapas educativas o formativas?\n",
    "\n",
    "### 3. **Distribución Territorial**\n",
    "   - **Análisis**: Comparar la distribución de los participantes por ubicación geográfica.\n",
    "   - **Gráfico**: Un gráfico de barras que muestre el número de participantes en cada localidad (Cubelles, Sant Pere de Ribes, Sitges, etc.).\n",
    "   - **Pregunta**: ¿Hay un desequilibrio en la distribución geográfica de los participantes?\n",
    "\n",
    "### 4. **Relación entre Sexo Biológico y Género**\n",
    "   - **Análisis**: Verificar si hay diferencias significativas entre el sexo biológico y la identidad de género reportada.\n",
    "   - **Gráfico**: Un gráfico de barras o un gráfico de mosaico para mostrar la correspondencia entre el sexo biológico (masculino/femenino) y el género (hombre/mujer/no lo sé).\n",
    "   - **Pregunta**: ¿Cuántas personas no se identifican con su sexo biológico?\n",
    "\n",
    "### 5. **Relación entre Sexo Biológico y Ocupación**\n",
    "   - **Análisis**: Explorar si hay una tendencia de diferencias de ocupación en función del sexo biológico.\n",
    "   - **Gráfico**: Un gráfico de barras o apilado que relacione ocupación y sexo biológico.\n",
    "   - **Pregunta**: ¿Hay una tendencia de ocupación particular según el sexo biológico?\n",
    "\n",
    "### 6. **Personas con quien viven**\n",
    "   - **Análisis**: Ver la distribución de cuántas personas viven con los participantes.\n",
    "   - **Gráfico**: Un histograma o gráfico de barras que muestre cuántas personas suelen vivir en el mismo hogar.\n",
    "   - **Pregunta**: ¿Cuál es el tamaño promedio del hogar? ¿Hay diferencias según la edad o el género?\n",
    "\n",
    "### 7. **Relación entre Edad y Personas con quien viven**\n",
    "   - **Análisis**: Analizar si las personas más jóvenes tienden a vivir en hogares más grandes o más pequeños.\n",
    "   - **Gráfico**: Un scatterplot o un gráfico de cajas (boxplot) de la edad versus el número de personas con quienes viven.\n",
    "   - **Pregunta**: ¿Las personas de diferentes edades viven con un número similar de personas?\n",
    "\n",
    "### 8. **Distribución por Género**\n",
    "   - **Análisis**: Explorar la distribución de los géneros reportados en el conjunto de datos.\n",
    "   - **Gráfico**: Un gráfico circular (pie chart) o gráfico de barras.\n",
    "   - **Pregunta**: ¿Qué proporción de los participantes se identifica con cada género?\n",
    "\n",
    "### 9. **Relación entre Distribución Territorial y Edad**\n",
    "   - **Análisis**: Ver si hay diferencias de edad notables según la ubicación geográfica.\n",
    "   - **Gráfico**: Gráfico de cajas (boxplot) para comparar las edades según la distribución territorial.\n",
    "   - **Pregunta**: ¿En qué lugares se encuentran los jóvenes más o menos jóvenes?\n",
    "\n",
    "### Posibles combinaciones más avanzadas:\n",
    "   - **Relación entre Edad, Ocupación y Distribución Territorial**: Utilizar un gráfico de dispersión 3D o un gráfico de burbujas para ver cómo interactúan estos tres factores.\n",
    "   - **Género, Ocupación y Número de Personas con quien viven**: Podría analizarse cómo se distribuyen estos factores en combinación, lo cual puede ser interesante para entender las dinámicas en función de la identidad de género.\n"
   ]
  },
  {
   "cell_type": "code",
   "execution_count": null,
   "id": "dc86d190-d3f8-40be-bf92-a7ab65b00e33",
   "metadata": {},
   "outputs": [],
   "source": []
  },
  {
   "cell_type": "code",
   "execution_count": null,
   "id": "45233e49-b6a8-4e61-884a-8a1b6cfa2338",
   "metadata": {},
   "outputs": [],
   "source": []
  },
  {
   "cell_type": "code",
   "execution_count": 82,
   "id": "6284d93b-eb7c-47bf-bbc5-6413db093c69",
   "metadata": {},
   "outputs": [
    {
     "data": {
      "text/html": [
       "<div>\n",
       "<style scoped>\n",
       "    .dataframe tbody tr th:only-of-type {\n",
       "        vertical-align: middle;\n",
       "    }\n",
       "\n",
       "    .dataframe tbody tr th {\n",
       "        vertical-align: top;\n",
       "    }\n",
       "\n",
       "    .dataframe thead th {\n",
       "        text-align: right;\n",
       "    }\n",
       "</style>\n",
       "<table border=\"1\" class=\"dataframe\">\n",
       "  <thead>\n",
       "    <tr style=\"text-align: right;\">\n",
       "      <th></th>\n",
       "      <th>EDAT</th>\n",
       "      <th>OCUPACIÓ</th>\n",
       "      <th>Distribución Territorial</th>\n",
       "      <th>Sexo biológico</th>\n",
       "      <th>Género</th>\n",
       "      <th>Personas con quien viven</th>\n",
       "    </tr>\n",
       "  </thead>\n",
       "  <tbody>\n",
       "    <tr>\n",
       "      <th>0</th>\n",
       "      <td>17</td>\n",
       "      <td>Formació Professional</td>\n",
       "      <td>Cubelles</td>\n",
       "      <td>Femella</td>\n",
       "      <td>Dona</td>\n",
       "      <td>4.0</td>\n",
       "    </tr>\n",
       "    <tr>\n",
       "      <th>1</th>\n",
       "      <td>19</td>\n",
       "      <td>Formació Universitària</td>\n",
       "      <td>Sant Pere de Ribes</td>\n",
       "      <td>Mascle</td>\n",
       "      <td>No ho sé</td>\n",
       "      <td>3.0</td>\n",
       "    </tr>\n",
       "    <tr>\n",
       "      <th>2</th>\n",
       "      <td>17</td>\n",
       "      <td>4t d’ESO</td>\n",
       "      <td>Sitges</td>\n",
       "      <td>Femella</td>\n",
       "      <td>Dona</td>\n",
       "      <td>3.0</td>\n",
       "    </tr>\n",
       "    <tr>\n",
       "      <th>3</th>\n",
       "      <td>18</td>\n",
       "      <td>Formació Professional</td>\n",
       "      <td>Sant Pere de Ribes</td>\n",
       "      <td>Femella</td>\n",
       "      <td>Dona</td>\n",
       "      <td>2.0</td>\n",
       "    </tr>\n",
       "    <tr>\n",
       "      <th>4</th>\n",
       "      <td>17</td>\n",
       "      <td>2n Batx.</td>\n",
       "      <td>Sitges</td>\n",
       "      <td>Femella</td>\n",
       "      <td>Dona</td>\n",
       "      <td>3.0</td>\n",
       "    </tr>\n",
       "    <tr>\n",
       "      <th>...</th>\n",
       "      <td>...</td>\n",
       "      <td>...</td>\n",
       "      <td>...</td>\n",
       "      <td>...</td>\n",
       "      <td>...</td>\n",
       "      <td>...</td>\n",
       "    </tr>\n",
       "    <tr>\n",
       "      <th>635</th>\n",
       "      <td>14</td>\n",
       "      <td>3r d’ESO</td>\n",
       "      <td>Vilanova i la Geltrú</td>\n",
       "      <td>Femella</td>\n",
       "      <td>Dona</td>\n",
       "      <td>3.0</td>\n",
       "    </tr>\n",
       "    <tr>\n",
       "      <th>636</th>\n",
       "      <td>18</td>\n",
       "      <td>Formació Professional</td>\n",
       "      <td>Sant Pere de Ribes</td>\n",
       "      <td>Femella</td>\n",
       "      <td>No ho sé</td>\n",
       "      <td>3.0</td>\n",
       "    </tr>\n",
       "    <tr>\n",
       "      <th>637</th>\n",
       "      <td>15</td>\n",
       "      <td>4t d’ESO</td>\n",
       "      <td>Cubelles</td>\n",
       "      <td>Femella</td>\n",
       "      <td>Dona</td>\n",
       "      <td>3.0</td>\n",
       "    </tr>\n",
       "    <tr>\n",
       "      <th>638</th>\n",
       "      <td>15</td>\n",
       "      <td>4t d’ESO</td>\n",
       "      <td>Cubelles</td>\n",
       "      <td>Femella</td>\n",
       "      <td>Dona</td>\n",
       "      <td>5.0</td>\n",
       "    </tr>\n",
       "    <tr>\n",
       "      <th>639</th>\n",
       "      <td>14</td>\n",
       "      <td>3r d’ESO</td>\n",
       "      <td>Vilanova i la Geltrú</td>\n",
       "      <td>Mascle</td>\n",
       "      <td>Home</td>\n",
       "      <td>3.0</td>\n",
       "    </tr>\n",
       "  </tbody>\n",
       "</table>\n",
       "<p>631 rows × 6 columns</p>\n",
       "</div>"
      ],
      "text/plain": [
       "     EDAT                OCUPACIÓ Distribución Territorial Sexo biológico  \\\n",
       "0      17   Formació Professional                 Cubelles        Femella   \n",
       "1      19  Formació Universitària       Sant Pere de Ribes         Mascle   \n",
       "2      17                4t d’ESO                   Sitges        Femella   \n",
       "3      18   Formació Professional       Sant Pere de Ribes        Femella   \n",
       "4      17                2n Batx.                   Sitges        Femella   \n",
       "..    ...                     ...                      ...            ...   \n",
       "635    14                3r d’ESO     Vilanova i la Geltrú        Femella   \n",
       "636    18   Formació Professional       Sant Pere de Ribes        Femella   \n",
       "637    15                4t d’ESO                 Cubelles        Femella   \n",
       "638    15                4t d’ESO                 Cubelles        Femella   \n",
       "639    14                3r d’ESO     Vilanova i la Geltrú         Mascle   \n",
       "\n",
       "       Género  Personas con quien viven  \n",
       "0        Dona                       4.0  \n",
       "1    No ho sé                       3.0  \n",
       "2        Dona                       3.0  \n",
       "3        Dona                       2.0  \n",
       "4        Dona                       3.0  \n",
       "..        ...                       ...  \n",
       "635      Dona                       3.0  \n",
       "636  No ho sé                       3.0  \n",
       "637      Dona                       3.0  \n",
       "638      Dona                       5.0  \n",
       "639      Home                       3.0  \n",
       "\n",
       "[631 rows x 6 columns]"
      ]
     },
     "execution_count": 82,
     "metadata": {},
     "output_type": "execute_result"
    }
   ],
   "source": [
    "SEJ_demografics"
   ]
  },
  {
   "cell_type": "code",
   "execution_count": null,
   "id": "daffd5ec-ff75-46f7-8a69-95898fcb7967",
   "metadata": {},
   "outputs": [],
   "source": []
  },
  {
   "cell_type": "code",
   "execution_count": null,
   "id": "4a6d8a42-fa05-4758-bf40-867f1eb8c77d",
   "metadata": {},
   "outputs": [],
   "source": []
  }
 ],
 "metadata": {
  "kernelspec": {
   "display_name": "Python 3",
   "language": "python",
   "name": "python3"
  },
  "language_info": {
   "codemirror_mode": {
    "name": "ipython",
    "version": 3
   },
   "file_extension": ".py",
   "mimetype": "text/x-python",
   "name": "python",
   "nbconvert_exporter": "python",
   "pygments_lexer": "ipython3",
   "version": "3.7.4"
  }
 },
 "nbformat": 4,
 "nbformat_minor": 5
}
